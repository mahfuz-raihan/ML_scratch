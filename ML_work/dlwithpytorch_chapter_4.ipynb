{
 "cells": [
  {
   "cell_type": "code",
   "execution_count": 1,
   "metadata": {},
   "outputs": [
    {
     "name": "stderr",
     "output_type": "stream",
     "text": [
      "/home/mahfuz/anaconda3/envs/dl/lib/python3.10/site-packages/tqdm/auto.py:22: TqdmWarning: IProgress not found. Please update jupyter and ipywidgets. See https://ipywidgets.readthedocs.io/en/stable/user_install.html\n",
      "  from .autonotebook import tqdm as notebook_tqdm\n"
     ]
    }
   ],
   "source": [
    "import torch\n",
    "X = torch.tensor([[1, 0], [0, 1]])\n",
    "Y = torch.tensor([[2, 1], [1, 2]]) \n",
    "X_times_Y = X * Y"
   ]
  },
  {
   "cell_type": "code",
   "execution_count": 2,
   "metadata": {},
   "outputs": [
    {
     "data": {
      "text/plain": [
       "tensor([[2, 0],\n",
       "        [0, 2]])"
      ]
     },
     "execution_count": 2,
     "metadata": {},
     "output_type": "execute_result"
    }
   ],
   "source": [
    "X_times_Y"
   ]
  },
  {
   "cell_type": "markdown",
   "metadata": {},
   "source": [
    "### Working with images"
   ]
  },
  {
   "cell_type": "markdown",
   "metadata": {},
   "source": [
    "#### Loading an Image file"
   ]
  },
  {
   "cell_type": "code",
   "execution_count": 3,
   "metadata": {},
   "outputs": [
    {
     "data": {
      "text/plain": [
       "(256, 256, 3)"
      ]
     },
     "execution_count": 3,
     "metadata": {},
     "output_type": "execute_result"
    }
   ],
   "source": [
    "# using imageio\n",
    "import imageio.v3 as iio\n",
    "\n",
    "img_io = iio.imread('/home/mahfuz/Desktop/dlpyt/p1ch4/cat1.png')\n",
    "img_io.shape"
   ]
  },
  {
   "cell_type": "code",
   "execution_count": 4,
   "metadata": {},
   "outputs": [
    {
     "name": "stdout",
     "output_type": "stream",
     "text": [
      "4.6.0\n"
     ]
    }
   ],
   "source": [
    "import cv2 as cv\n",
    "print(cv.__version__)"
   ]
  },
  {
   "cell_type": "code",
   "execution_count": 5,
   "metadata": {},
   "outputs": [
    {
     "name": "stderr",
     "output_type": "stream",
     "text": [
      "QObject::moveToThread: Current thread (0x6e56040) is not the object's thread (0x6fc83f0).\n",
      "Cannot move to target thread (0x6e56040)\n",
      "\n",
      "QObject::moveToThread: Current thread (0x6e56040) is not the object's thread (0x6fc83f0).\n",
      "Cannot move to target thread (0x6e56040)\n",
      "\n",
      "QObject::moveToThread: Current thread (0x6e56040) is not the object's thread (0x6fc83f0).\n",
      "Cannot move to target thread (0x6e56040)\n",
      "\n",
      "QObject::moveToThread: Current thread (0x6e56040) is not the object's thread (0x6fc83f0).\n",
      "Cannot move to target thread (0x6e56040)\n",
      "\n",
      "QObject::moveToThread: Current thread (0x6e56040) is not the object's thread (0x6fc83f0).\n",
      "Cannot move to target thread (0x6e56040)\n",
      "\n",
      "QObject::moveToThread: Current thread (0x6e56040) is not the object's thread (0x6fc83f0).\n",
      "Cannot move to target thread (0x6e56040)\n",
      "\n",
      "QObject::moveToThread: Current thread (0x6e56040) is not the object's thread (0x6fc83f0).\n",
      "Cannot move to target thread (0x6e56040)\n",
      "\n",
      "QObject::moveToThread: Current thread (0x6e56040) is not the object's thread (0x6fc83f0).\n",
      "Cannot move to target thread (0x6e56040)\n",
      "\n",
      "QObject::moveToThread: Current thread (0x6e56040) is not the object's thread (0x6fc83f0).\n",
      "Cannot move to target thread (0x6e56040)\n",
      "\n",
      "QObject::moveToThread: Current thread (0x6e56040) is not the object's thread (0x6fc83f0).\n",
      "Cannot move to target thread (0x6e56040)\n",
      "\n",
      "QObject::moveToThread: Current thread (0x6e56040) is not the object's thread (0x6fc83f0).\n",
      "Cannot move to target thread (0x6e56040)\n",
      "\n",
      "QObject::moveToThread: Current thread (0x6e56040) is not the object's thread (0x6fc83f0).\n",
      "Cannot move to target thread (0x6e56040)\n",
      "\n",
      "QObject::moveToThread: Current thread (0x6e56040) is not the object's thread (0x6fc83f0).\n",
      "Cannot move to target thread (0x6e56040)\n",
      "\n",
      "QObject::moveToThread: Current thread (0x6e56040) is not the object's thread (0x6fc83f0).\n",
      "Cannot move to target thread (0x6e56040)\n",
      "\n",
      "QObject::moveToThread: Current thread (0x6e56040) is not the object's thread (0x6fc83f0).\n",
      "Cannot move to target thread (0x6e56040)\n",
      "\n",
      "QObject::moveToThread: Current thread (0x6e56040) is not the object's thread (0x6fc83f0).\n",
      "Cannot move to target thread (0x6e56040)\n",
      "\n",
      "QObject::moveToThread: Current thread (0x6e56040) is not the object's thread (0x6fc83f0).\n",
      "Cannot move to target thread (0x6e56040)\n",
      "\n",
      "QObject::moveToThread: Current thread (0x6e56040) is not the object's thread (0x6fc83f0).\n",
      "Cannot move to target thread (0x6e56040)\n",
      "\n",
      "QObject::moveToThread: Current thread (0x6e56040) is not the object's thread (0x6fc83f0).\n",
      "Cannot move to target thread (0x6e56040)\n",
      "\n",
      "QObject::moveToThread: Current thread (0x6e56040) is not the object's thread (0x6fc83f0).\n",
      "Cannot move to target thread (0x6e56040)\n",
      "\n",
      "QObject::moveToThread: Current thread (0x6e56040) is not the object's thread (0x6fc83f0).\n",
      "Cannot move to target thread (0x6e56040)\n",
      "\n",
      "QObject::moveToThread: Current thread (0x6e56040) is not the object's thread (0x6fc83f0).\n",
      "Cannot move to target thread (0x6e56040)\n",
      "\n",
      "QObject::moveToThread: Current thread (0x6e56040) is not the object's thread (0x6fc83f0).\n",
      "Cannot move to target thread (0x6e56040)\n",
      "\n",
      "QObject::moveToThread: Current thread (0x6e56040) is not the object's thread (0x6fc83f0).\n",
      "Cannot move to target thread (0x6e56040)\n",
      "\n",
      "QObject::moveToThread: Current thread (0x6e56040) is not the object's thread (0x6fc83f0).\n",
      "Cannot move to target thread (0x6e56040)\n",
      "\n",
      "QObject::moveToThread: Current thread (0x6e56040) is not the object's thread (0x6fc83f0).\n",
      "Cannot move to target thread (0x6e56040)\n",
      "\n",
      "QObject::moveToThread: Current thread (0x6e56040) is not the object's thread (0x6fc83f0).\n",
      "Cannot move to target thread (0x6e56040)\n",
      "\n",
      "QObject::moveToThread: Current thread (0x6e56040) is not the object's thread (0x6fc83f0).\n",
      "Cannot move to target thread (0x6e56040)\n",
      "\n",
      "QObject::moveToThread: Current thread (0x6e56040) is not the object's thread (0x6fc83f0).\n",
      "Cannot move to target thread (0x6e56040)\n",
      "\n",
      "QObject::moveToThread: Current thread (0x6e56040) is not the object's thread (0x6fc83f0).\n",
      "Cannot move to target thread (0x6e56040)\n",
      "\n",
      "QObject::moveToThread: Current thread (0x6e56040) is not the object's thread (0x6fc83f0).\n",
      "Cannot move to target thread (0x6e56040)\n",
      "\n",
      "QObject::moveToThread: Current thread (0x6e56040) is not the object's thread (0x6fc83f0).\n",
      "Cannot move to target thread (0x6e56040)\n",
      "\n",
      "QObject::moveToThread: Current thread (0x6e56040) is not the object's thread (0x6fc83f0).\n",
      "Cannot move to target thread (0x6e56040)\n",
      "\n",
      "QObject::moveToThread: Current thread (0x6e56040) is not the object's thread (0x6fc83f0).\n",
      "Cannot move to target thread (0x6e56040)\n",
      "\n",
      "QObject::moveToThread: Current thread (0x6e56040) is not the object's thread (0x6fc83f0).\n",
      "Cannot move to target thread (0x6e56040)\n",
      "\n",
      "QObject::moveToThread: Current thread (0x6e56040) is not the object's thread (0x6fc83f0).\n",
      "Cannot move to target thread (0x6e56040)\n",
      "\n",
      "QObject::moveToThread: Current thread (0x6e56040) is not the object's thread (0x6fc83f0).\n",
      "Cannot move to target thread (0x6e56040)\n",
      "\n",
      "QObject::moveToThread: Current thread (0x6e56040) is not the object's thread (0x6fc83f0).\n",
      "Cannot move to target thread (0x6e56040)\n",
      "\n",
      "QObject::moveToThread: Current thread (0x6e56040) is not the object's thread (0x6fc83f0).\n",
      "Cannot move to target thread (0x6e56040)\n",
      "\n",
      "QObject::moveToThread: Current thread (0x6e56040) is not the object's thread (0x6fc83f0).\n",
      "Cannot move to target thread (0x6e56040)\n",
      "\n",
      "QObject::moveToThread: Current thread (0x6e56040) is not the object's thread (0x6fc83f0).\n",
      "Cannot move to target thread (0x6e56040)\n",
      "\n",
      "QObject::moveToThread: Current thread (0x6e56040) is not the object's thread (0x6fc83f0).\n",
      "Cannot move to target thread (0x6e56040)\n",
      "\n",
      "QObject::moveToThread: Current thread (0x6e56040) is not the object's thread (0x6fc83f0).\n",
      "Cannot move to target thread (0x6e56040)\n",
      "\n",
      "QObject::moveToThread: Current thread (0x6e56040) is not the object's thread (0x6fc83f0).\n",
      "Cannot move to target thread (0x6e56040)\n",
      "\n",
      "QObject::moveToThread: Current thread (0x6e56040) is not the object's thread (0x6fc83f0).\n",
      "Cannot move to target thread (0x6e56040)\n",
      "\n",
      "QObject::moveToThread: Current thread (0x6e56040) is not the object's thread (0x6fc83f0).\n",
      "Cannot move to target thread (0x6e56040)\n",
      "\n",
      "QObject::moveToThread: Current thread (0x6e56040) is not the object's thread (0x6fc83f0).\n",
      "Cannot move to target thread (0x6e56040)\n",
      "\n",
      "QObject::moveToThread: Current thread (0x6e56040) is not the object's thread (0x6fc83f0).\n",
      "Cannot move to target thread (0x6e56040)\n",
      "\n",
      "QObject::moveToThread: Current thread (0x6e56040) is not the object's thread (0x6fc83f0).\n",
      "Cannot move to target thread (0x6e56040)\n",
      "\n",
      "QObject::moveToThread: Current thread (0x6e56040) is not the object's thread (0x6fc83f0).\n",
      "Cannot move to target thread (0x6e56040)\n",
      "\n",
      "QObject::moveToThread: Current thread (0x6e56040) is not the object's thread (0x6fc83f0).\n",
      "Cannot move to target thread (0x6e56040)\n",
      "\n",
      "QObject::moveToThread: Current thread (0x6e56040) is not the object's thread (0x6fc83f0).\n",
      "Cannot move to target thread (0x6e56040)\n",
      "\n",
      "QObject::moveToThread: Current thread (0x6e56040) is not the object's thread (0x6fc83f0).\n",
      "Cannot move to target thread (0x6e56040)\n",
      "\n",
      "QObject::moveToThread: Current thread (0x6e56040) is not the object's thread (0x6fc83f0).\n",
      "Cannot move to target thread (0x6e56040)\n",
      "\n",
      "QObject::moveToThread: Current thread (0x6e56040) is not the object's thread (0x6fc83f0).\n",
      "Cannot move to target thread (0x6e56040)\n",
      "\n",
      "QObject::moveToThread: Current thread (0x6e56040) is not the object's thread (0x6fc83f0).\n",
      "Cannot move to target thread (0x6e56040)\n",
      "\n",
      "QObject::moveToThread: Current thread (0x6e56040) is not the object's thread (0x6fc83f0).\n",
      "Cannot move to target thread (0x6e56040)\n",
      "\n",
      "QObject::moveToThread: Current thread (0x6e56040) is not the object's thread (0x6fc83f0).\n",
      "Cannot move to target thread (0x6e56040)\n",
      "\n",
      "QObject::moveToThread: Current thread (0x6e56040) is not the object's thread (0x6fc83f0).\n",
      "Cannot move to target thread (0x6e56040)\n",
      "\n",
      "QObject::moveToThread: Current thread (0x6e56040) is not the object's thread (0x6fc83f0).\n",
      "Cannot move to target thread (0x6e56040)\n",
      "\n",
      "QObject::moveToThread: Current thread (0x6e56040) is not the object's thread (0x6fc83f0).\n",
      "Cannot move to target thread (0x6e56040)\n",
      "\n",
      "QObject::moveToThread: Current thread (0x6e56040) is not the object's thread (0x6fc83f0).\n",
      "Cannot move to target thread (0x6e56040)\n",
      "\n",
      "QObject::moveToThread: Current thread (0x6e56040) is not the object's thread (0x6fc83f0).\n",
      "Cannot move to target thread (0x6e56040)\n",
      "\n",
      "QObject::moveToThread: Current thread (0x6e56040) is not the object's thread (0x6fc83f0).\n",
      "Cannot move to target thread (0x6e56040)\n",
      "\n",
      "QObject::moveToThread: Current thread (0x6e56040) is not the object's thread (0x6fc83f0).\n",
      "Cannot move to target thread (0x6e56040)\n",
      "\n",
      "QObject::moveToThread: Current thread (0x6e56040) is not the object's thread (0x6fc83f0).\n",
      "Cannot move to target thread (0x6e56040)\n",
      "\n",
      "QObject::moveToThread: Current thread (0x6e56040) is not the object's thread (0x6fc83f0).\n",
      "Cannot move to target thread (0x6e56040)\n",
      "\n",
      "QObject::moveToThread: Current thread (0x6e56040) is not the object's thread (0x6fc83f0).\n",
      "Cannot move to target thread (0x6e56040)\n",
      "\n",
      "QObject::moveToThread: Current thread (0x6e56040) is not the object's thread (0x6fc83f0).\n",
      "Cannot move to target thread (0x6e56040)\n",
      "\n",
      "QObject::moveToThread: Current thread (0x6e56040) is not the object's thread (0x6fc83f0).\n",
      "Cannot move to target thread (0x6e56040)\n",
      "\n",
      "QObject::moveToThread: Current thread (0x6e56040) is not the object's thread (0x6fc83f0).\n",
      "Cannot move to target thread (0x6e56040)\n",
      "\n",
      "QObject::moveToThread: Current thread (0x6e56040) is not the object's thread (0x6fc83f0).\n",
      "Cannot move to target thread (0x6e56040)\n",
      "\n",
      "QObject::moveToThread: Current thread (0x6e56040) is not the object's thread (0x6fc83f0).\n",
      "Cannot move to target thread (0x6e56040)\n",
      "\n",
      "QObject::moveToThread: Current thread (0x6e56040) is not the object's thread (0x6fc83f0).\n",
      "Cannot move to target thread (0x6e56040)\n",
      "\n",
      "QObject::moveToThread: Current thread (0x6e56040) is not the object's thread (0x6fc83f0).\n",
      "Cannot move to target thread (0x6e56040)\n",
      "\n",
      "QObject::moveToThread: Current thread (0x6e56040) is not the object's thread (0x6fc83f0).\n",
      "Cannot move to target thread (0x6e56040)\n",
      "\n",
      "QObject::moveToThread: Current thread (0x6e56040) is not the object's thread (0x6fc83f0).\n",
      "Cannot move to target thread (0x6e56040)\n",
      "\n",
      "QObject::moveToThread: Current thread (0x6e56040) is not the object's thread (0x6fc83f0).\n",
      "Cannot move to target thread (0x6e56040)\n",
      "\n",
      "QObject::moveToThread: Current thread (0x6e56040) is not the object's thread (0x6fc83f0).\n",
      "Cannot move to target thread (0x6e56040)\n",
      "\n",
      "QObject::moveToThread: Current thread (0x6e56040) is not the object's thread (0x6fc83f0).\n",
      "Cannot move to target thread (0x6e56040)\n",
      "\n",
      "QObject::moveToThread: Current thread (0x6e56040) is not the object's thread (0x6fc83f0).\n",
      "Cannot move to target thread (0x6e56040)\n",
      "\n",
      "QObject::moveToThread: Current thread (0x6e56040) is not the object's thread (0x6fc83f0).\n",
      "Cannot move to target thread (0x6e56040)\n",
      "\n",
      "QObject::moveToThread: Current thread (0x6e56040) is not the object's thread (0x6fc83f0).\n",
      "Cannot move to target thread (0x6e56040)\n",
      "\n",
      "QObject::moveToThread: Current thread (0x6e56040) is not the object's thread (0x6fc83f0).\n",
      "Cannot move to target thread (0x6e56040)\n",
      "\n",
      "QObject::moveToThread: Current thread (0x6e56040) is not the object's thread (0x6fc83f0).\n",
      "Cannot move to target thread (0x6e56040)\n",
      "\n",
      "QObject::moveToThread: Current thread (0x6e56040) is not the object's thread (0x6fc83f0).\n",
      "Cannot move to target thread (0x6e56040)\n",
      "\n",
      "QObject::moveToThread: Current thread (0x6e56040) is not the object's thread (0x6fc83f0).\n",
      "Cannot move to target thread (0x6e56040)\n",
      "\n",
      "QObject::moveToThread: Current thread (0x6e56040) is not the object's thread (0x6fc83f0).\n",
      "Cannot move to target thread (0x6e56040)\n",
      "\n",
      "QObject::moveToThread: Current thread (0x6e56040) is not the object's thread (0x6fc83f0).\n",
      "Cannot move to target thread (0x6e56040)\n",
      "\n",
      "QObject::moveToThread: Current thread (0x6e56040) is not the object's thread (0x6fc83f0).\n",
      "Cannot move to target thread (0x6e56040)\n",
      "\n",
      "QObject::moveToThread: Current thread (0x6e56040) is not the object's thread (0x6fc83f0).\n",
      "Cannot move to target thread (0x6e56040)\n",
      "\n",
      "QObject::moveToThread: Current thread (0x6e56040) is not the object's thread (0x6fc83f0).\n",
      "Cannot move to target thread (0x6e56040)\n",
      "\n",
      "QObject::moveToThread: Current thread (0x6e56040) is not the object's thread (0x6fc83f0).\n",
      "Cannot move to target thread (0x6e56040)\n",
      "\n",
      "QObject::moveToThread: Current thread (0x6e56040) is not the object's thread (0x6fc83f0).\n",
      "Cannot move to target thread (0x6e56040)\n",
      "\n",
      "QObject::moveToThread: Current thread (0x6e56040) is not the object's thread (0x6fc83f0).\n",
      "Cannot move to target thread (0x6e56040)\n",
      "\n",
      "QObject::moveToThread: Current thread (0x6e56040) is not the object's thread (0x6fc83f0).\n",
      "Cannot move to target thread (0x6e56040)\n",
      "\n",
      "QObject::moveToThread: Current thread (0x6e56040) is not the object's thread (0x6fc83f0).\n",
      "Cannot move to target thread (0x6e56040)\n",
      "\n",
      "QObject::moveToThread: Current thread (0x6e56040) is not the object's thread (0x6fc83f0).\n",
      "Cannot move to target thread (0x6e56040)\n",
      "\n",
      "QObject::moveToThread: Current thread (0x6e56040) is not the object's thread (0x6fc83f0).\n",
      "Cannot move to target thread (0x6e56040)\n",
      "\n",
      "QObject::moveToThread: Current thread (0x6e56040) is not the object's thread (0x6fc83f0).\n",
      "Cannot move to target thread (0x6e56040)\n",
      "\n",
      "QObject::moveToThread: Current thread (0x6e56040) is not the object's thread (0x6fc83f0).\n",
      "Cannot move to target thread (0x6e56040)\n",
      "\n",
      "QObject::moveToThread: Current thread (0x6e56040) is not the object's thread (0x6fc83f0).\n",
      "Cannot move to target thread (0x6e56040)\n",
      "\n",
      "QObject::moveToThread: Current thread (0x6e56040) is not the object's thread (0x6fc83f0).\n",
      "Cannot move to target thread (0x6e56040)\n",
      "\n",
      "QObject::moveToThread: Current thread (0x6e56040) is not the object's thread (0x6fc83f0).\n",
      "Cannot move to target thread (0x6e56040)\n",
      "\n",
      "QObject::moveToThread: Current thread (0x6e56040) is not the object's thread (0x6fc83f0).\n",
      "Cannot move to target thread (0x6e56040)\n",
      "\n",
      "QObject::moveToThread: Current thread (0x6e56040) is not the object's thread (0x6fc83f0).\n",
      "Cannot move to target thread (0x6e56040)\n",
      "\n",
      "QObject::moveToThread: Current thread (0x6e56040) is not the object's thread (0x6fc83f0).\n",
      "Cannot move to target thread (0x6e56040)\n",
      "\n",
      "QObject::moveToThread: Current thread (0x6e56040) is not the object's thread (0x6fc83f0).\n",
      "Cannot move to target thread (0x6e56040)\n",
      "\n",
      "QObject::moveToThread: Current thread (0x6e56040) is not the object's thread (0x6fc83f0).\n",
      "Cannot move to target thread (0x6e56040)\n",
      "\n",
      "QObject::moveToThread: Current thread (0x6e56040) is not the object's thread (0x6fc83f0).\n",
      "Cannot move to target thread (0x6e56040)\n",
      "\n",
      "QObject::moveToThread: Current thread (0x6e56040) is not the object's thread (0x6fc83f0).\n",
      "Cannot move to target thread (0x6e56040)\n",
      "\n",
      "QObject::moveToThread: Current thread (0x6e56040) is not the object's thread (0x6fc83f0).\n",
      "Cannot move to target thread (0x6e56040)\n",
      "\n",
      "QObject::moveToThread: Current thread (0x6e56040) is not the object's thread (0x6fc83f0).\n",
      "Cannot move to target thread (0x6e56040)\n",
      "\n",
      "QObject::moveToThread: Current thread (0x6e56040) is not the object's thread (0x6fc83f0).\n",
      "Cannot move to target thread (0x6e56040)\n",
      "\n",
      "QObject::moveToThread: Current thread (0x6e56040) is not the object's thread (0x6fc83f0).\n",
      "Cannot move to target thread (0x6e56040)\n",
      "\n",
      "QObject::moveToThread: Current thread (0x6e56040) is not the object's thread (0x6fc83f0).\n",
      "Cannot move to target thread (0x6e56040)\n",
      "\n",
      "QObject::moveToThread: Current thread (0x6e56040) is not the object's thread (0x6fc83f0).\n",
      "Cannot move to target thread (0x6e56040)\n",
      "\n",
      "QObject::moveToThread: Current thread (0x6e56040) is not the object's thread (0x6fc83f0).\n",
      "Cannot move to target thread (0x6e56040)\n",
      "\n",
      "QObject::moveToThread: Current thread (0x6e56040) is not the object's thread (0x6fc83f0).\n",
      "Cannot move to target thread (0x6e56040)\n",
      "\n",
      "QObject::moveToThread: Current thread (0x6e56040) is not the object's thread (0x6fc83f0).\n",
      "Cannot move to target thread (0x6e56040)\n",
      "\n",
      "QObject::moveToThread: Current thread (0x6e56040) is not the object's thread (0x6fc83f0).\n",
      "Cannot move to target thread (0x6e56040)\n",
      "\n",
      "QObject::moveToThread: Current thread (0x6e56040) is not the object's thread (0x6fc83f0).\n",
      "Cannot move to target thread (0x6e56040)\n",
      "\n",
      "QObject::moveToThread: Current thread (0x6e56040) is not the object's thread (0x6fc83f0).\n",
      "Cannot move to target thread (0x6e56040)\n",
      "\n",
      "QObject::moveToThread: Current thread (0x6e56040) is not the object's thread (0x6fc83f0).\n",
      "Cannot move to target thread (0x6e56040)\n",
      "\n",
      "QObject::moveToThread: Current thread (0x6e56040) is not the object's thread (0x6fc83f0).\n",
      "Cannot move to target thread (0x6e56040)\n",
      "\n",
      "QObject::moveToThread: Current thread (0x6e56040) is not the object's thread (0x6fc83f0).\n",
      "Cannot move to target thread (0x6e56040)\n",
      "\n",
      "QObject::moveToThread: Current thread (0x6e56040) is not the object's thread (0x6fc83f0).\n",
      "Cannot move to target thread (0x6e56040)\n",
      "\n",
      "QObject::moveToThread: Current thread (0x6e56040) is not the object's thread (0x6fc83f0).\n",
      "Cannot move to target thread (0x6e56040)\n",
      "\n",
      "QObject::moveToThread: Current thread (0x6e56040) is not the object's thread (0x6fc83f0).\n",
      "Cannot move to target thread (0x6e56040)\n",
      "\n",
      "QObject::moveToThread: Current thread (0x6e56040) is not the object's thread (0x6fc83f0).\n",
      "Cannot move to target thread (0x6e56040)\n",
      "\n",
      "QObject::moveToThread: Current thread (0x6e56040) is not the object's thread (0x6fc83f0).\n",
      "Cannot move to target thread (0x6e56040)\n",
      "\n",
      "QObject::moveToThread: Current thread (0x6e56040) is not the object's thread (0x6fc83f0).\n",
      "Cannot move to target thread (0x6e56040)\n",
      "\n",
      "QObject::moveToThread: Current thread (0x6e56040) is not the object's thread (0x6fc83f0).\n",
      "Cannot move to target thread (0x6e56040)\n",
      "\n",
      "QObject::moveToThread: Current thread (0x6e56040) is not the object's thread (0x6fc83f0).\n",
      "Cannot move to target thread (0x6e56040)\n",
      "\n",
      "QObject::moveToThread: Current thread (0x6e56040) is not the object's thread (0x6fc83f0).\n",
      "Cannot move to target thread (0x6e56040)\n",
      "\n",
      "QObject::moveToThread: Current thread (0x6e56040) is not the object's thread (0x6fc83f0).\n",
      "Cannot move to target thread (0x6e56040)\n",
      "\n",
      "QObject::moveToThread: Current thread (0x6e56040) is not the object's thread (0x6fc83f0).\n",
      "Cannot move to target thread (0x6e56040)\n",
      "\n",
      "QObject::moveToThread: Current thread (0x6e56040) is not the object's thread (0x6fc83f0).\n",
      "Cannot move to target thread (0x6e56040)\n",
      "\n",
      "QObject::moveToThread: Current thread (0x6e56040) is not the object's thread (0x6fc83f0).\n",
      "Cannot move to target thread (0x6e56040)\n",
      "\n",
      "QObject::moveToThread: Current thread (0x6e56040) is not the object's thread (0x6fc83f0).\n",
      "Cannot move to target thread (0x6e56040)\n",
      "\n",
      "QObject::moveToThread: Current thread (0x6e56040) is not the object's thread (0x6fc83f0).\n",
      "Cannot move to target thread (0x6e56040)\n",
      "\n",
      "QObject::moveToThread: Current thread (0x6e56040) is not the object's thread (0x6fc83f0).\n",
      "Cannot move to target thread (0x6e56040)\n",
      "\n",
      "QObject::moveToThread: Current thread (0x6e56040) is not the object's thread (0x6fc83f0).\n",
      "Cannot move to target thread (0x6e56040)\n",
      "\n",
      "QObject::moveToThread: Current thread (0x6e56040) is not the object's thread (0x6fc83f0).\n",
      "Cannot move to target thread (0x6e56040)\n",
      "\n"
     ]
    }
   ],
   "source": [
    "import cv2 as cv\n",
    "img_cv = cv.imread('/home/mahfuz/Desktop/dlpyt/p1ch4/cat1.png')\n",
    "img_cv.shape\n",
    "cv.imshow('image show', img_cv)\n",
    "cv.waitKey(0)\n",
    "cv.destroyAllWindows()"
   ]
  },
  {
   "cell_type": "code",
   "execution_count": 6,
   "metadata": {},
   "outputs": [
    {
     "data": {
      "text/plain": [
       "(256, 256, 3)"
      ]
     },
     "execution_count": 6,
     "metadata": {},
     "output_type": "execute_result"
    }
   ],
   "source": [
    "# using imageio\n",
    "import imageio.v3 as iio\n",
    "\n",
    "img_io = iio.imread('/home/mahfuz/Desktop/dlpyt/p1ch4/cat1.png')\n",
    "img_io.shape"
   ]
  },
  {
   "cell_type": "code",
   "execution_count": 7,
   "metadata": {},
   "outputs": [
    {
     "name": "stderr",
     "output_type": "stream",
     "text": [
      "/tmp/ipykernel_3632/4162671256.py:3: UserWarning: The given NumPy array is not writable, and PyTorch does not support non-writable tensors. This means writing to this tensor will result in undefined behavior. You may want to copy the array to protect its data or make it writable before converting it to a tensor. This type of warning will be suppressed for the rest of this program. (Triggered internally at /opt/conda/conda-bld/pytorch_1666642969563/work/torch/csrc/utils/tensor_numpy.cpp:199.)\n",
      "  img = torch.from_numpy(img_io)\n"
     ]
    }
   ],
   "source": [
    "import torch\n",
    "import numpy as np\n",
    "img = torch.from_numpy(img_io)\n",
    "out = img.permute(2, 0, 1)"
   ]
  },
  {
   "cell_type": "code",
   "execution_count": 8,
   "metadata": {},
   "outputs": [],
   "source": [
    "batch_size = 3\n",
    "batch = torch.zeros(batch_size, 3, 256, 256, dtype=torch.uint8)"
   ]
  },
  {
   "cell_type": "code",
   "execution_count": 9,
   "metadata": {},
   "outputs": [
    {
     "data": {
      "text/plain": [
       "['cat1.png', 'cat3.png', 'cat2.png']"
      ]
     },
     "execution_count": 9,
     "metadata": {},
     "output_type": "execute_result"
    }
   ],
   "source": [
    "import os\n",
    "\n",
    "data_dir = '/home/mahfuz/Desktop/dlpyt/p1ch4/'\n",
    "file_names = [name for name in os.listdir(data_dir) if os.path.splitext(name)[-1] == '.png']\n",
    "file_names"
   ]
  },
  {
   "cell_type": "code",
   "execution_count": 10,
   "metadata": {},
   "outputs": [],
   "source": [
    "for i, file_names in enumerate(file_names):\n",
    "    img_arr = iio.imread(os.path.join(data_dir, file_names))\n",
    "    img_t = torch.from_numpy(img_arr)\n",
    "    img_t = img_t.permute(2, 0, 1)\n",
    "    img_t = img_t[:3]\n",
    "    batch[i] = img_t"
   ]
  },
  {
   "cell_type": "markdown",
   "metadata": {},
   "source": [
    "#### Normalizing the data\n",
    "Neural networks exhibit the best training performance when the input\n",
    "data ranges roughly from 0 to 1, or from -1 to 1 (this is an effect of how their building\n",
    "blocks are defined)."
   ]
  },
  {
   "cell_type": "code",
   "execution_count": 11,
   "metadata": {},
   "outputs": [],
   "source": [
    "batch = batch.float()\n",
    "batch /= 255.0"
   ]
  },
  {
   "cell_type": "markdown",
   "metadata": {},
   "source": [
    "Another possibility is to compute the mean and standard deviation of the input data\n",
    "and scale it so that the output has zero mean and unit standard deviation across each\n",
    "channel:"
   ]
  },
  {
   "cell_type": "code",
   "execution_count": 12,
   "metadata": {},
   "outputs": [
    {
     "data": {
      "text/plain": [
       "3"
      ]
     },
     "execution_count": 12,
     "metadata": {},
     "output_type": "execute_result"
    }
   ],
   "source": [
    "n_channels = batch.shape[1]\n",
    "n_channels"
   ]
  },
  {
   "cell_type": "code",
   "execution_count": 13,
   "metadata": {},
   "outputs": [],
   "source": [
    "for c in range(n_channels):\n",
    "    mean = torch.mean(batch[:, c])\n",
    "    std = torch.std(batch[:, c])\n",
    "    batch[:, c] = (batch[:, c] - mean) / std"
   ]
  },
  {
   "cell_type": "markdown",
   "metadata": {},
   "source": [
    "#### Loading a specialized format"
   ]
  },
  {
   "cell_type": "code",
   "execution_count": 14,
   "metadata": {},
   "outputs": [
    {
     "name": "stdout",
     "output_type": "stream",
     "text": [
      "Reading DICOM (examining files): 1/99 files (1.0%99/99 files (100.0%)\n",
      "  Found 1 correct series.\n",
      "Reading DICOM (loading data): 49/99  (49.584/99  (84.899/99  (100.0%)\n"
     ]
    },
    {
     "data": {
      "text/plain": [
       "(99, 512, 512)"
      ]
     },
     "execution_count": 14,
     "metadata": {},
     "output_type": "execute_result"
    }
   ],
   "source": [
    "import imageio\n",
    "sp_dir_path = '/home/mahfuz/Desktop/dlwpt-code-master/data/p1ch4/volumetric-dicom/2-LUNG 3.0  B70f-04083'\n",
    "vol_arr = imageio.volread(sp_dir_path, 'DICOM')\n",
    "vol_arr.shape"
   ]
  },
  {
   "cell_type": "markdown",
   "metadata": {},
   "source": [
    "As was true in section 4.1.3, the layout is different from what PyTorch expects, due to\n",
    "having no channel information. So we’ll have to make room for the channel dimen-\n",
    "sion using unsqueeze :"
   ]
  },
  {
   "cell_type": "code",
   "execution_count": 15,
   "metadata": {},
   "outputs": [
    {
     "data": {
      "text/plain": [
       "torch.Size([1, 99, 512, 512])"
      ]
     },
     "execution_count": 15,
     "metadata": {},
     "output_type": "execute_result"
    }
   ],
   "source": [
    "vol = torch.from_numpy(vol_arr).float()\n",
    "vol = torch.unsqueeze(vol, 0)\n",
    "\n",
    "vol.shape"
   ]
  },
  {
   "cell_type": "markdown",
   "metadata": {},
   "source": [
    "### Representing tabular data"
   ]
  },
  {
   "cell_type": "code",
   "execution_count": 16,
   "metadata": {},
   "outputs": [
    {
     "data": {
      "text/plain": [
       "array([[ 7.  ,  0.27,  0.36, ...,  0.45,  8.8 ,  6.  ],\n",
       "       [ 6.3 ,  0.3 ,  0.34, ...,  0.49,  9.5 ,  6.  ],\n",
       "       [ 8.1 ,  0.28,  0.4 , ...,  0.44, 10.1 ,  6.  ],\n",
       "       ...,\n",
       "       [ 6.5 ,  0.24,  0.19, ...,  0.46,  9.4 ,  6.  ],\n",
       "       [ 5.5 ,  0.29,  0.3 , ...,  0.38, 12.8 ,  7.  ],\n",
       "       [ 6.  ,  0.21,  0.38, ...,  0.32, 11.8 ,  6.  ]], dtype=float32)"
      ]
     },
     "execution_count": 16,
     "metadata": {},
     "output_type": "execute_result"
    }
   ],
   "source": [
    "import csv \n",
    "import numpy as np \n",
    "wine_path = '/home/mahfuz/Desktop/dlwpt-code-master/data/p1ch4/tabular-wine/winequality-white.csv'\n",
    "wineq_numpy = np.loadtxt(wine_path, dtype=np.float32, delimiter=';', skiprows=1)\n",
    "wineq_numpy"
   ]
  },
  {
   "cell_type": "code",
   "execution_count": 17,
   "metadata": {},
   "outputs": [
    {
     "data": {
      "text/plain": [
       "((4898, 12),\n",
       " ['fixed acidity',\n",
       "  'volatile acidity',\n",
       "  'citric acid',\n",
       "  'residual sugar',\n",
       "  'chlorides',\n",
       "  'free sulfur dioxide',\n",
       "  'total sulfur dioxide',\n",
       "  'density',\n",
       "  'pH',\n",
       "  'sulphates',\n",
       "  'alcohol',\n",
       "  'quality'])"
      ]
     },
     "execution_count": 17,
     "metadata": {},
     "output_type": "execute_result"
    }
   ],
   "source": [
    "col_list = next(csv.reader(open(wine_path), delimiter=';'))\n",
    "wineq_numpy.shape, col_list"
   ]
  },
  {
   "cell_type": "markdown",
   "metadata": {},
   "source": [
    "proceed to convert the NumPy array to a PyTorch tensor:"
   ]
  },
  {
   "cell_type": "code",
   "execution_count": 18,
   "metadata": {},
   "outputs": [
    {
     "data": {
      "text/plain": [
       "(torch.Size([4898, 12]), torch.float32)"
      ]
     },
     "execution_count": 18,
     "metadata": {},
     "output_type": "execute_result"
    }
   ],
   "source": [
    "wineq = torch.from_numpy(wineq_numpy)\n",
    "wineq.shape, wineq.dtype"
   ]
  },
  {
   "cell_type": "code",
   "execution_count": 19,
   "metadata": {},
   "outputs": [
    {
     "data": {
      "text/plain": [
       "(tensor([[ 7.0000,  0.2700,  0.3600,  ...,  3.0000,  0.4500,  8.8000],\n",
       "         [ 6.3000,  0.3000,  0.3400,  ...,  3.3000,  0.4900,  9.5000],\n",
       "         [ 8.1000,  0.2800,  0.4000,  ...,  3.2600,  0.4400, 10.1000],\n",
       "         ...,\n",
       "         [ 6.5000,  0.2400,  0.1900,  ...,  2.9900,  0.4600,  9.4000],\n",
       "         [ 5.5000,  0.2900,  0.3000,  ...,  3.3400,  0.3800, 12.8000],\n",
       "         [ 6.0000,  0.2100,  0.3800,  ...,  3.2600,  0.3200, 11.8000]]),\n",
       " torch.Size([4898, 11]))"
      ]
     },
     "execution_count": 19,
     "metadata": {},
     "output_type": "execute_result"
    }
   ],
   "source": [
    "data = wineq[:, :-1]\n",
    "data, data.shape"
   ]
  },
  {
   "cell_type": "code",
   "execution_count": 20,
   "metadata": {},
   "outputs": [
    {
     "data": {
      "text/plain": [
       "(tensor([6., 6., 6.,  ..., 6., 7., 6.]), torch.Size([4898]))"
      ]
     },
     "execution_count": 20,
     "metadata": {},
     "output_type": "execute_result"
    }
   ],
   "source": [
    "target = wineq[:, -1]\n",
    "target, target.shape"
   ]
  },
  {
   "attachments": {},
   "cell_type": "markdown",
   "metadata": {},
   "source": [
    "If we want to transform the target tensor in a tensor of labels, we have two options,\n",
    "depending on the strategy or what we use the categorical data for. One is simply to\n",
    "treat labels as an integer vector of scores:"
   ]
  },
  {
   "cell_type": "code",
   "execution_count": 21,
   "metadata": {},
   "outputs": [
    {
     "data": {
      "text/plain": [
       "tensor([6, 6, 6,  ..., 6, 7, 6])"
      ]
     },
     "execution_count": 21,
     "metadata": {},
     "output_type": "execute_result"
    }
   ],
   "source": [
    "target = wineq[:, -1].long()\n",
    "target"
   ]
  },
  {
   "cell_type": "code",
   "execution_count": 22,
   "metadata": {},
   "outputs": [
    {
     "data": {
      "text/plain": [
       "tensor([[0., 0., 0.,  ..., 0., 0., 0.],\n",
       "        [0., 0., 0.,  ..., 0., 0., 0.],\n",
       "        [0., 0., 0.,  ..., 0., 0., 0.],\n",
       "        ...,\n",
       "        [0., 0., 0.,  ..., 0., 0., 0.],\n",
       "        [0., 0., 0.,  ..., 1., 0., 0.],\n",
       "        [0., 0., 0.,  ..., 0., 0., 0.]])"
      ]
     },
     "execution_count": 22,
     "metadata": {},
     "output_type": "execute_result"
    }
   ],
   "source": [
    "target_onehot = torch.zeros(target.shape[0], 10)\n",
    "\n",
    "target_onehot.scatter_(1, target.unsqueeze(1), 1.0)"
   ]
  },
  {
   "cell_type": "code",
   "execution_count": 23,
   "metadata": {},
   "outputs": [
    {
     "data": {
      "text/plain": [
       "tensor([[6],\n",
       "        [6],\n",
       "        [6],\n",
       "        ...,\n",
       "        [6],\n",
       "        [7],\n",
       "        [6]])"
      ]
     },
     "execution_count": 23,
     "metadata": {},
     "output_type": "execute_result"
    }
   ],
   "source": [
    "target_unsqueezed = target.unsqueeze(1)\n",
    "target_unsqueezed"
   ]
  },
  {
   "cell_type": "code",
   "execution_count": 24,
   "metadata": {},
   "outputs": [
    {
     "data": {
      "text/plain": [
       "tensor([6.8548e+00, 2.7824e-01, 3.3419e-01, 6.3914e+00, 4.5772e-02, 3.5308e+01,\n",
       "        1.3836e+02, 9.9403e-01, 3.1883e+00, 4.8985e-01, 1.0514e+01])"
      ]
     },
     "execution_count": 24,
     "metadata": {},
     "output_type": "execute_result"
    }
   ],
   "source": [
    "data_mean = torch.mean(data, dim=0)\n",
    "data_mean"
   ]
  },
  {
   "cell_type": "code",
   "execution_count": 25,
   "metadata": {},
   "outputs": [
    {
     "data": {
      "text/plain": [
       "tensor([7.1211e-01, 1.0160e-02, 1.4646e-02, 2.5726e+01, 4.7733e-04, 2.8924e+02,\n",
       "        1.8061e+03, 8.9455e-06, 2.2801e-02, 1.3025e-02, 1.5144e+00])"
      ]
     },
     "execution_count": 25,
     "metadata": {},
     "output_type": "execute_result"
    }
   ],
   "source": [
    "data_var = torch.var(data, dim=0)\n",
    "data_var"
   ]
  },
  {
   "cell_type": "code",
   "execution_count": 26,
   "metadata": {},
   "outputs": [
    {
     "data": {
      "text/plain": [
       "tensor([[ 1.7208e-01, -8.1761e-02,  2.1326e-01,  ..., -1.2468e+00,\n",
       "         -3.4915e-01, -1.3930e+00],\n",
       "        [-6.5743e-01,  2.1587e-01,  4.7996e-02,  ...,  7.3995e-01,\n",
       "          1.3422e-03, -8.2419e-01],\n",
       "        [ 1.4756e+00,  1.7450e-02,  5.4378e-01,  ...,  4.7505e-01,\n",
       "         -4.3677e-01, -3.3663e-01],\n",
       "        ...,\n",
       "        [-4.2043e-01, -3.7940e-01, -1.1915e+00,  ..., -1.3130e+00,\n",
       "         -2.6153e-01, -9.0545e-01],\n",
       "        [-1.6054e+00,  1.1666e-01, -2.8253e-01,  ...,  1.0049e+00,\n",
       "         -9.6251e-01,  1.8574e+00],\n",
       "        [-1.0129e+00, -6.7703e-01,  3.7852e-01,  ...,  4.7505e-01,\n",
       "         -1.4882e+00,  1.0448e+00]])"
      ]
     },
     "execution_count": 26,
     "metadata": {},
     "output_type": "execute_result"
    }
   ],
   "source": [
    "data_normalized = (data - data_mean)/ torch.sqrt(data_var)\n",
    "data_normalized"
   ]
  },
  {
   "cell_type": "code",
   "execution_count": null,
   "metadata": {},
   "outputs": [],
   "source": []
  }
 ],
 "metadata": {
  "kernelspec": {
   "display_name": "Python 3.10.6 ('dl')",
   "language": "python",
   "name": "python3"
  },
  "language_info": {
   "codemirror_mode": {
    "name": "ipython",
    "version": 3
   },
   "file_extension": ".py",
   "mimetype": "text/x-python",
   "name": "python",
   "nbconvert_exporter": "python",
   "pygments_lexer": "ipython3",
   "version": "3.10.8"
  },
  "orig_nbformat": 4,
  "vscode": {
   "interpreter": {
    "hash": "41402c8b5e7f8806df4be0126c60543c8d738b82ccbc17a04411a376311c906e"
   }
  }
 },
 "nbformat": 4,
 "nbformat_minor": 2
}
