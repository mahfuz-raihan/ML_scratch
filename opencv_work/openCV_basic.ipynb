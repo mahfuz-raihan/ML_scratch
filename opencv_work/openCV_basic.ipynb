{
 "cells": [
  {
   "cell_type": "markdown",
   "id": "3888bb47-7dfc-4719-b7c9-c35281108134",
   "metadata": {},
   "source": [
    "# Video read and play with openCV"
   ]
  },
  {
   "cell_type": "code",
   "execution_count": null,
   "id": "780f5b74-3fab-4cec-bff3-84e820166afd",
   "metadata": {},
   "outputs": [],
   "source": [
    "import cv2 as cv\n",
    "import numpy as np\n",
    "\n",
    "# capture a vido clip object and read from input file\n",
    "capture = cv.VideoCapture('vdo.mp4') # r = for read the file"
   ]
  },
  {
   "cell_type": "code",
   "execution_count": null,
   "id": "7162c9e7-0a9b-49e6-8ea1-1f6ed99e0f70",
   "metadata": {},
   "outputs": [],
   "source": [
    "# check if camera opend successfully\n",
    "if (capture.isOpened() == False):\n",
    "    print('Error opening video file')\n",
    "    \n",
    "# read untill video is completed\n",
    "while capture.isOpened():\n",
    "    \n",
    "    # capture frame by frame\n",
    "    ret, frame = capture.read()\n",
    "    if ret == True:\n",
    "        \n",
    "        # display the resulting frame\n",
    "        cv.imshow('Frame', frame)\n",
    "        \n",
    "        # pass Q on keyboad to exit\n",
    "        if cv.waitKey(25) & 0xFF == ord('q'):\n",
    "            break\n",
    "    # break the loop\n",
    "    else:\n",
    "        break\n",
    "\n",
    "'''\n",
    "when everything done, replace\n",
    "the video capture object\n",
    "'''\n",
    "capture.release()\n",
    "\n",
    "# closes all the frame\n",
    "cv.destroyAllWindows()"
   ]
  },
  {
   "cell_type": "markdown",
   "id": "79236666-9668-4483-8dc6-03a72d108eee",
   "metadata": {},
   "source": [
    "## read a video from webcam"
   ]
  },
  {
   "cell_type": "code",
   "execution_count": null,
   "id": "035ea1da-9b69-4ff4-9cbd-a0317fb29e31",
   "metadata": {},
   "outputs": [],
   "source": [
    "import numpy as np\n",
    "import cv2 as cv\n",
    "cap = cv.VideoCapture(0)\n",
    "if not cap.isOpened():\n",
    "    print(\"Cannot open camera\")\n",
    "    exit()\n",
    "while cap.isOpened():\n",
    "    # Capture frame-by-frame\n",
    "    ret, frame = cap.read()\n",
    "    # if frame is read correctly ret is True\n",
    "    if not ret:\n",
    "        print(\"Can't receive frame (stream end?). Exiting ...\")\n",
    "        break\n",
    "    # Our operations on the frame come here\n",
    "    gray = cv.cvtColor(frame, cv.COLOR_BGR2GRAY)\n",
    "    # Display the resulting frameq\n",
    "    cv.imshow('frame', gray)\n",
    "    if cv.waitKey(1) == ord('q'):\n",
    "        break\n",
    "\n",
    "cap.release()\n",
    "cv.destroyAllWindows()"
   ]
  },
  {
   "cell_type": "markdown",
   "id": "bb5c209c-968f-4b17-8b31-fea2737b9d2c",
   "metadata": {},
   "source": [
    "### Find the FPS from the video capture"
   ]
  },
  {
   "cell_type": "code",
   "execution_count": null,
   "id": "fbc91910-cba1-47f8-81ad-ec88ebb61923",
   "metadata": {},
   "outputs": [],
   "source": [
    "import numpy as np\n",
    "import cv2 as cv\n",
    "import time # time count\n",
    "\n",
    "# capture a vido clip object and read from input file\n",
    "capture = cv.VideoCapture('football.mp4') # r = for read the file\n",
    "# use the video record time for last frame\n",
    "past_frame_time = 0\n",
    "\n",
    "# use the current frame from the video\n",
    "current_frame_time = 0\n",
    "\n",
    "# check if camera opend successfully\n",
    "if (capture.isOpened() == False):\n",
    "    print('Error opening video file')\n",
    "\n",
    "while capture.isOpened():\n",
    "    \n",
    "    # capture the video frame by frame\n",
    "    ret, frame = capture.read()\n",
    "    \n",
    "    # if video finished or no video input found\n",
    "    if not ret:\n",
    "        break\n",
    "    \n",
    "    # out operations on the frame come here\n",
    "    gray = frame\n",
    "    \n",
    "    # resize the frame size according to our need\n",
    "    gray = cv.resize(gray, (1020, 720)) # (1620, 720) = define the dimention or resulation\n",
    "    \n",
    "    # font which we will be using to display FPS\n",
    "    font = cv.FONT_HERSHEY_SCRIPT_COMPLEX  # opencv dwaring function-font to diplay the context\n",
    "    \n",
    "    # time when we finish processing for this frame\n",
    "    current_frame_time = time.time()\n",
    "    \n",
    "    # calculate the FPS\n",
    "    fps = 1/(current_frame_time - past_frame_time)\n",
    "    \n",
    "    # assign the current frame time to past frame time\n",
    "    past_frame_time = current_frame_time\n",
    "    \n",
    "    # convert the fps into integer\n",
    "    fps = int(fps)\n",
    "    \n",
    "    '''\n",
    "    convert the fps to string so that we can display it on\n",
    "    frame by suing putText function\n",
    "    '''\n",
    "    fps = str(fps)\n",
    "    \n",
    "    # putting the fps count on the frame\n",
    "    cv.putText(gray, fps, (3, 100), font, 1, (0, 254, 0), 2, cv.LINE_AA) \n",
    "    \n",
    "    # displying the frame with fps\n",
    "    cv.imshow('Picture', gray)\n",
    "    \n",
    "    # press 'Q' if you want to exit\n",
    "    if cv.waitKey(1) & 0xFF == ord('q'):\n",
    "        break\n",
    "\n",
    "# when everything done, release the caputre\n",
    "capture.release()\n",
    "\n",
    "# destroy all the windows now\n",
    "cv.destroyAllWindows()"
   ]
  },
  {
   "cell_type": "code",
   "execution_count": null,
   "id": "5b44ce08-5dda-4100-85c5-c2500bd3a9c3",
   "metadata": {},
   "outputs": [],
   "source": [
    "# here we try to capture the frame from a video file.\n",
    "\n",
    "import numpy as np\n",
    "import cv2 as cv\n",
    "\n",
    "# open the inbuilt camera of laptop to capture video\n",
    "cap = cv.VideoCapture('football1.mp4')\n",
    "i = 0\n",
    "while (cap.isOpened()):\n",
    "    ret, frame = cap.read()\n",
    "    \n",
    "    if ret == False:\n",
    "        break\n",
    "    \n",
    "    # save the image frame by frame\n",
    "    cv.imwrite('pic'+str(i+1)+'.png', frame)\n",
    "    i += 1\n",
    "    \n",
    "cap.release()\n",
    "cv.destroyAllWindows()"
   ]
  },
  {
   "cell_type": "markdown",
   "id": "9f5a0243-1078-4d7e-9258-b23b3825e357",
   "metadata": {},
   "source": [
    "# Work with image"
   ]
  },
  {
   "cell_type": "code",
   "execution_count": 1,
   "id": "8669ddbc-f3c1-4f04-a213-de1ce6c3dd81",
   "metadata": {},
   "outputs": [],
   "source": [
    "import numpy as np\n",
    "import cv2 as cv\n",
    "\n",
    "# read image\n",
    "#img = cv.imread('pic12.png')"
   ]
  },
  {
   "cell_type": "code",
   "execution_count": null,
   "id": "82b4c2ac-b37e-414b-aaaf-3ca58fa93413",
   "metadata": {},
   "outputs": [],
   "source": [
    "img = cv.imread('greenpic12.png')\n",
    "cv.imshow('image', img)\n",
    "cv.waitKey(0)"
   ]
  },
  {
   "cell_type": "code",
   "execution_count": null,
   "id": "ef624bf8-3efb-41fc-81b3-2cdd8b6dca44",
   "metadata": {},
   "outputs": [],
   "source": []
  },
  {
   "cell_type": "code",
   "execution_count": null,
   "id": "70de7469-776d-4a9e-92d8-8948429ed6a2",
   "metadata": {},
   "outputs": [],
   "source": [
    "reimg = cv.resize(img, (500, 300), 0.1, 0.1) # resize the image file\n",
    "#cv.imwrite('pic12.png', reimg) # save image"
   ]
  },
  {
   "cell_type": "code",
   "execution_count": null,
   "id": "8a8135a8-8f45-4204-9c58-60269564ccee",
   "metadata": {},
   "outputs": [],
   "source": [
    "img.shape # find the shape"
   ]
  },
  {
   "cell_type": "code",
   "execution_count": null,
   "id": "52d46109-6cc0-4362-b88f-88c7790d9400",
   "metadata": {},
   "outputs": [],
   "source": [
    "cv.imshow('figure', img[:,:, 1])\n",
    "cv.waitKey(0)"
   ]
  },
  {
   "cell_type": "code",
   "execution_count": null,
   "id": "924ec7df-70ab-4019-a041-c00d63b3b0c1",
   "metadata": {},
   "outputs": [],
   "source": [
    "name = ['blue','green','red']\n",
    "c = 'channel'\n",
    "for i in range(3):\n",
    "    print(name[i]+' '+c)\n",
    "    print(img[:,:,i]) # blue channel\n",
    "    cv.imwrite(name[i]+'pic12.png', img[:,:,i])"
   ]
  },
  {
   "cell_type": "code",
   "execution_count": null,
   "id": "6f679337-2d82-4f1c-a802-1454277077fd",
   "metadata": {},
   "outputs": [],
   "source": [
    "import matplotlib.pyplot as plt\n",
    "pic = ['bluepic12.png','greenpic12.png','redpic12.png']\n",
    "\n",
    "for i in range(3):\n",
    "    img1 = cv.imread(pic[i])\n",
    "    histg = cv.calcHist([img1],[i],None,[256],[0, 256])\n",
    "\n",
    "    plt.plot(histg)\n",
    "    plt.show()"
   ]
  },
  {
   "cell_type": "code",
   "execution_count": null,
   "id": "7ef0cf43-8e98-46dc-ae09-da596d3a849f",
   "metadata": {},
   "outputs": [],
   "source": [
    "plt.hist(img1.ravel(), 256,[0, 256])\n",
    "plt.show()"
   ]
  },
  {
   "cell_type": "code",
   "execution_count": null,
   "id": "5d132d9b-55cd-4dd2-b112-06836c2ac755",
   "metadata": {},
   "outputs": [],
   "source": [
    "img1 = cv.imread('bluepic12.png')\n",
    "histg = cv.calcHist([img1],[0],None,[256],[0, 256])\n",
    "\n",
    "plt.plot(histg)\n",
    "plt.show()"
   ]
  },
  {
   "cell_type": "code",
   "execution_count": null,
   "id": "d20eb27c-65b6-4be8-bd63-d8d16c2f7ec6",
   "metadata": {},
   "outputs": [],
   "source": [
    "pic = ['pic78.png','pic85.png']\n",
    "name = ['pic78samll.png','pic85small.png']\n",
    "for i in range(2):\n",
    "    img = cv.imread(pic[i])\n",
    "    reimg = cv.resize(img, (500, 300), 0.1, 0.1) # resize the image file\n",
    "    cv.imwrite(name[i], reimg)"
   ]
  },
  {
   "cell_type": "code",
   "execution_count": null,
   "id": "59eb29b7-3637-4c40-8109-3ccac9d46be3",
   "metadata": {},
   "outputs": [],
   "source": [
    "photo = ['pic78samll.png','pic85small.png']\n",
    "image = cv.imread(photo[0])\n",
    "cv.imshow('figure',image)\n",
    "cv.waitKey(0)"
   ]
  },
  {
   "cell_type": "code",
   "execution_count": null,
   "id": "722d8509-e66c-4de9-8cba-d34634ea7edb",
   "metadata": {},
   "outputs": [],
   "source": [
    "import matplotlib.pyplot as plt\n",
    "pic = ['pic78samll.png','pic85small.png']\n",
    "\n",
    "for i in range(2):\n",
    "    img1 = cv.imread(pic[i])\n",
    "    histg = cv.calcHist([img1],[i],None,[256],[0, 256])\n",
    "    plt.plot(histg)\n",
    "    plt.show()"
   ]
  },
  {
   "cell_type": "code",
   "execution_count": null,
   "id": "e106ed1f-ac6d-4564-933d-1071b69c7bfd",
   "metadata": {},
   "outputs": [],
   "source": [
    "img2 = cv.imread('pic78samll.png')\n",
    "plt.hist(img2.ravel(), 256,[0, 256])\n",
    "plt.show()"
   ]
  },
  {
   "cell_type": "code",
   "execution_count": null,
   "id": "0dceac66-fd71-4985-9225-bb01ad08cb2f",
   "metadata": {},
   "outputs": [],
   "source": [
    "pic = ['pic78samll.png','pic85small.png']\n",
    "\n",
    "histcal = []\n",
    "for i in range(2):\n",
    "    img1 = cv.imread(pic[i])\n",
    "    img1_hsv = cv.cvtColor(img1, cv.COLOR_BGR2HSV)\n",
    "    histg = cv.calcHist([img1_hsv],[i], None, [256],[0, 256])\n",
    "    histcal.append(histg)\n",
    "    \n",
    "# find similarity\n",
    "findsimilarity = cv.compareHist(histcal[0], histcal[1], cv.HISTCMP_BHATTACHARYYA)\n",
    "print(findsimilarity)"
   ]
  },
  {
   "cell_type": "code",
   "execution_count": null,
   "id": "eeee6a11-a7d1-42b2-afde-3ffce087ab72",
   "metadata": {},
   "outputs": [],
   "source": [
    "cv.imshow('football', histcal[0])\n",
    "cv.waitKey(0) & 0xFF == ord('q')"
   ]
  },
  {
   "cell_type": "code",
   "execution_count": null,
   "id": "1ab5de86-d6e5-4e77-a453-95a195f82287",
   "metadata": {},
   "outputs": [],
   "source": []
  }
 ],
 "metadata": {
  "kernelspec": {
   "display_name": "Python 3 (ipykernel)",
   "language": "python",
   "name": "python3"
  },
  "language_info": {
   "codemirror_mode": {
    "name": "ipython",
    "version": 3
   },
   "file_extension": ".py",
   "mimetype": "text/x-python",
   "name": "python",
   "nbconvert_exporter": "python",
   "pygments_lexer": "ipython3",
   "version": "3.9.12"
  }
 },
 "nbformat": 4,
 "nbformat_minor": 5
}
