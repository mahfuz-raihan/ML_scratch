{
 "cells": [
  {
   "cell_type": "markdown",
   "id": "3888bb47-7dfc-4719-b7c9-c35281108134",
   "metadata": {},
   "source": [
    "# Video read and play with openCV"
   ]
  },
  {
   "cell_type": "code",
   "execution_count": null,
   "id": "780f5b74-3fab-4cec-bff3-84e820166afd",
   "metadata": {},
   "outputs": [],
   "source": [
    "import cv2 as cv\n",
    "import numpy as np\n",
    "\n",
    "# capture a vido clip object and read from input file\n",
    "capture = cv.VideoCapture('vdo.mp4') # r = for read the file"
   ]
  },
  {
   "cell_type": "code",
   "execution_count": null,
   "id": "7162c9e7-0a9b-49e6-8ea1-1f6ed99e0f70",
   "metadata": {},
   "outputs": [],
   "source": [
    "# check if camera opend successfully\n",
    "if (capture.isOpened() == False):\n",
    "    print('Error opening video file')\n",
    "    \n",
    "# read untill video is completed\n",
    "while capture.isOpened():\n",
    "    \n",
    "    # capture frame by frame\n",
    "    ret, frame = capture.read()\n",
    "    if ret == True:\n",
    "        \n",
    "        # display the resulting frame\n",
    "        cv.imshow('Frame', frame)\n",
    "        \n",
    "        # pass Q on keyboad to exit\n",
    "        if cv.waitKey(25) & 0xFF == ord('q'):\n",
    "            break\n",
    "    # break the loop\n",
    "    else:\n",
    "        break\n",
    "\n",
    "'''\n",
    "when everything done, replace\n",
    "the video capture object\n",
    "'''\n",
    "capture.release()\n",
    "\n",
    "# closes all the frame\n",
    "cv.destroyAllWindows()"
   ]
  },
  {
   "cell_type": "markdown",
   "id": "79236666-9668-4483-8dc6-03a72d108eee",
   "metadata": {},
   "source": [
    "## read a video from webcam"
   ]
  },
  {
   "cell_type": "code",
   "execution_count": null,
   "id": "035ea1da-9b69-4ff4-9cbd-a0317fb29e31",
   "metadata": {},
   "outputs": [],
   "source": [
    "import numpy as np\n",
    "import cv2 as cv\n",
    "cap = cv.VideoCapture(0)\n",
    "if not cap.isOpened():\n",
    "    print(\"Cannot open camera\")\n",
    "    exit()\n",
    "while cap.isOpened():\n",
    "    # Capture frame-by-frame\n",
    "    ret, frame = cap.read()\n",
    "    # if frame is read correctly ret is True\n",
    "    if not ret:\n",
    "        print(\"Can't receive frame (stream end?). Exiting ...\")\n",
    "        break\n",
    "    # Our operations on the frame come here\n",
    "    gray = cv.cvtColor(frame, cv.COLOR_BGR2GRAY)\n",
    "    # Display the resulting frameq\n",
    "    cv.imshow('frame', gray)\n",
    "    if cv.waitKey(1) == ord('q'):\n",
    "        break\n",
    "\n",
    "cap.release()\n",
    "cv.destroyAllWindows()"
   ]
  },
  {
   "cell_type": "markdown",
   "id": "bb5c209c-968f-4b17-8b31-fea2737b9d2c",
   "metadata": {},
   "source": [
    "### Find the FPS from the video capture"
   ]
  },
  {
   "cell_type": "code",
   "execution_count": null,
   "id": "fbc91910-cba1-47f8-81ad-ec88ebb61923",
   "metadata": {},
   "outputs": [],
   "source": [
    "import numpy as np\n",
    "import cv2 as cv\n",
    "import time # time count\n",
    "\n",
    "# capture a vido clip object and read from input file\n",
    "capture = cv.VideoCapture('football.mp4') # r = for read the file\n",
    "# use the video record time for last frame\n",
    "past_frame_time = 0\n",
    "\n",
    "# use the current frame from the video\n",
    "current_frame_time = 0\n",
    "\n",
    "# check if camera opend successfully\n",
    "if (capture.isOpened() == False):\n",
    "    print('Error opening video file')\n",
    "\n",
    "while capture.isOpened():\n",
    "    \n",
    "    # capture the video frame by frame\n",
    "    ret, frame = capture.read()\n",
    "    \n",
    "    # if video finished or no video input found\n",
    "    if not ret:\n",
    "        break\n",
    "    \n",
    "    # out operations on the frame come here\n",
    "    gray = frame\n",
    "    \n",
    "    # resize the frame size according to our need\n",
    "    gray = cv.resize(gray, (1020, 720)) # (1620, 720) = define the dimention or resulation\n",
    "    \n",
    "    # font which we will be using to display FPS\n",
    "    font = cv.FONT_HERSHEY_SCRIPT_COMPLEX  # opencv dwaring function-font to diplay the context\n",
    "    \n",
    "    # time when we finish processing for this frame\n",
    "    current_frame_time = time.time()\n",
    "    \n",
    "    # calculate the FPS\n",
    "    fps = 1/(current_frame_time - past_frame_time)\n",
    "    \n",
    "    # assign the current frame time to past frame time\n",
    "    past_frame_time = current_frame_time\n",
    "    \n",
    "    # convert the fps into integer\n",
    "    fps = int(fps)\n",
    "    \n",
    "    '''\n",
    "    convert the fps to string so that we can display it on\n",
    "    frame by suing putText function\n",
    "    '''\n",
    "    fps = str(fps)\n",
    "    \n",
    "    # putting the fps count on the frame\n",
    "    cv.putText(gray, fps, (3, 100), font, 1, (0, 254, 0), 2, cv.LINE_AA) \n",
    "    \n",
    "    # displying the frame with fps\n",
    "    cv.imshow('Picture', gray)\n",
    "    \n",
    "    # press 'Q' if you want to exit\n",
    "    if cv.waitKey(1) & 0xFF == ord('q'):\n",
    "        break\n",
    "\n",
    "# when everything done, release the caputre\n",
    "capture.release()\n",
    "\n",
    "# destroy all the windows now\n",
    "cv.destroyAllWindows()"
   ]
  },
  {
   "cell_type": "code",
   "execution_count": null,
   "id": "5b44ce08-5dda-4100-85c5-c2500bd3a9c3",
   "metadata": {},
   "outputs": [],
   "source": [
    "# here we try to capture the frame from a video file.\n",
    "\n",
    "import numpy as np\n",
    "import cv2 as cv\n",
    "\n",
    "# open the inbuilt camera of laptop to capture video\n",
    "cap = cv.VideoCapture('football1.mp4')\n",
    "i = 0\n",
    "while (cap.isOpened()):\n",
    "    ret, frame = cap.read()\n",
    "    \n",
    "    if ret == False:\n",
    "        break\n",
    "    \n",
    "    # save the image frame by frame\n",
    "    cv.imwrite('pic'+str(i+1)+'.png', frame)\n",
    "    i += 1\n",
    "    \n",
    "cap.release()\n",
    "cv.destroyAllWindows()"
   ]
  },
  {
   "cell_type": "code",
   "execution_count": 1,
   "id": "8669ddbc-f3c1-4f04-a213-de1ce6c3dd81",
   "metadata": {},
   "outputs": [],
   "source": [
    "import numpy as np\n",
    "import cv2 as cv\n",
    "\n",
    "img = cv.imread('pic11.png')\n",
    "cv.imshow('img', img)"
   ]
  },
  {
   "cell_type": "code",
   "execution_count": null,
   "id": "70de7469-776d-4a9e-92d8-8948429ed6a2",
   "metadata": {},
   "outputs": [],
   "source": []
  }
 ],
 "metadata": {
  "kernelspec": {
   "display_name": "Python 3 (ipykernel)",
   "language": "python",
   "name": "python3"
  },
  "language_info": {
   "codemirror_mode": {
    "name": "ipython",
    "version": 3
   },
   "file_extension": ".py",
   "mimetype": "text/x-python",
   "name": "python",
   "nbconvert_exporter": "python",
   "pygments_lexer": "ipython3",
   "version": "3.9.12"
  }
 },
 "nbformat": 4,
 "nbformat_minor": 5
}
